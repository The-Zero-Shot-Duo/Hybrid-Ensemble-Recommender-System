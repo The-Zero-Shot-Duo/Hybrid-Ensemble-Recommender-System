{
  "cells": [
    {
      "cell_type": "markdown",
      "source": [
        "# Step 1. Setup and Path Definitions\n",
        "- This section imports the necessary libraries and defines absolute paths to your project's data and model directories. This makes the script easier to manage and run on different systems."
      ],
      "metadata": {
        "id": "VbDEDZCemHC2"
      }
    },
    {
      "cell_type": "code",
      "source": [
        "import os\n",
        "import pandas as pd\n",
        "import numpy as np\n",
        "import torch\n",
        "import torch.nn as nn\n",
        "from torch.utils.data import Dataset, DataLoader\n",
        "from sklearn.model_selection import train_test_split\n",
        "from sklearn.metrics import mean_squared_error\n",
        "import pickle\n",
        "import csv\n",
        "from google.colab import drive\n",
        "\n",
        "# --- Mount Google Drive ---\n",
        "# This is necessary to access files stored in your Google Drive from Colab.\n",
        "drive.mount('/content/drive')\n",
        "\n",
        "# --- Define Absolute Paths ---\n",
        "# Establishes a base directory to make file paths portable.\n",
        "# Assumes the notebook is running from the root of the 'Amazon_Recommender' project.\n",
        "BASE_DIR = '/content/drive/MyDrive/Amazon_Recommender' # Using the common base path from the notebook\n",
        "\n",
        "# Define paths to key directories.\n",
        "DATA_DIR = os.path.join(BASE_DIR, 'data')\n",
        "MODELS_DIR = os.path.join(BASE_DIR, 'models')\n",
        "PROCESSED_DATA_DIR = os.path.join(DATA_DIR, 'processed')\n",
        "RAW_DATA_DIR = os.path.join(DATA_DIR, 'raw')\n",
        "\n",
        "# Define specific file paths for data, model, and mappings.\n",
        "RAW_DATA_FILE = os.path.join(RAW_DATA_DIR, 'Electronics_5.csv')\n",
        "SAMPLED_DATA_FILE = os.path.join(PROCESSED_DATA_DIR, '11_sampled_10_percent_raw_data.csv')\n",
        "MODEL_SAVE_PATH = os.path.join(MODELS_DIR, '11_ncf_model.pt')\n",
        "MAPPINGS_SAVE_PATH = os.path.join(MODELS_DIR, '11_ncf_mappings.pkl')\n",
        "EVALUATION_SAVE_PATH = os.path.join(PROCESSED_DATA_DIR, '11_ncf_evaluation_metrics.csv')"
      ],
      "metadata": {
        "colab": {
          "base_uri": "https://localhost:8080/"
        },
        "id": "fgqpGkG7mOqs",
        "outputId": "dec33291-fadf-4d28-8c8b-d4ea2cc2c32c"
      },
      "execution_count": null,
      "outputs": [
        {
          "output_type": "stream",
          "name": "stdout",
          "text": [
            "Drive already mounted at /content/drive; to attempt to forcibly remount, call drive.mount(\"/content/drive\", force_remount=True).\n"
          ]
        }
      ]
    },
    {
      "cell_type": "markdown",
      "source": [
        "# Step 2. Data Loading and Preparation\n",
        "- We load the raw dataset, convert user and item IDs into unique integer indices (a required format for embedding layers), and split the data into training and testing sets. A smaller 10% sample is also saved for quicker testing if needed."
      ],
      "metadata": {
        "id": "KtMZImvdmTTE"
      }
    },
    {
      "cell_type": "code",
      "source": [
        "# --- Load and Prepare Data ---\n",
        "try:\n",
        "    # Load the full dataset of electronics reviews.\n",
        "    ratings_df = pd.read_csv(RAW_DATA_FILE)\n",
        "    print(f\"Full dataset loaded. Shape: {ratings_df.shape}\")\n",
        "\n",
        "    # For faster experimentation, save a 10% sample of the data.\n",
        "    # This step can be commented out if not needed.\n",
        "    sampled_df = ratings_df.head(len(ratings_df) // 10)\n",
        "    sampled_df.to_csv(SAMPLED_DATA_FILE, index=False)\n",
        "    print(f\"Saved a 10% sample for quick testing to: {SAMPLED_DATA_FILE}\")\n",
        "\n",
        "    # --- Feature Engineering: Create User and Item Indices ---\n",
        "    # Neural networks require numerical inputs. We convert string IDs to categorical integer codes.\n",
        "    ratings_df['user_idx'] = ratings_df['reviewerID'].astype(\"category\").cat.codes\n",
        "    ratings_df['item_idx'] = ratings_df['asin'].astype(\"category\").cat.codes\n",
        "    print(\"Created user and item integer indices.\")\n",
        "\n",
        "    # --- Split Data into Training and Testing Sets ---\n",
        "    train_df, test_df = train_test_split(ratings_df, test_size=0.2, random_state=42)\n",
        "    print(f\"Data split into training set ({len(train_df)} rows) and test set ({len(test_df)} rows).\")\n",
        "\n",
        "except FileNotFoundError:\n",
        "    print(f\"Error: Raw data file not found at {RAW_DATA_FILE}\")\n",
        "    ratings_df = None"
      ],
      "metadata": {
        "colab": {
          "base_uri": "https://localhost:8080/"
        },
        "id": "ldu8BTqPmchI",
        "outputId": "3ccf44bb-d39b-40ec-eef2-1f8796e925ca"
      },
      "execution_count": null,
      "outputs": [
        {
          "output_type": "stream",
          "name": "stderr",
          "text": [
            "/tmp/ipython-input-2669271362.py:4: DtypeWarning: Columns (1) have mixed types. Specify dtype option on import or set low_memory=False.\n",
            "  ratings_df = pd.read_csv(RAW_DATA_FILE)\n"
          ]
        },
        {
          "output_type": "stream",
          "name": "stdout",
          "text": [
            "Full dataset loaded. Shape: (6739590, 12)\n",
            "Saved a 10% sample for quick testing to: /content/drive/MyDrive/Amazon_Recommender/data/processed/11_sampled_10_percent_raw_data.csv\n",
            "Created user and item integer indices.\n",
            "Data split into training set (5391672 rows) and test set (1347918 rows).\n"
          ]
        }
      ]
    },
    {
      "cell_type": "markdown",
      "source": [
        "# Step 3. PyTorch Dataset and DataLoader\n",
        "- A custom RatingsDataset class is defined to handle the data format required by PyTorch. DataLoader is then used to efficiently batch and shuffle the data during training."
      ],
      "metadata": {
        "id": "1ZD9dWngmPvN"
      }
    },
    {
      "cell_type": "code",
      "source": [
        "# --- Create a PyTorch Dataset ---\n",
        "class RatingsDataset(Dataset):\n",
        "    \"\"\"Custom PyTorch Dataset for user-item ratings.\"\"\"\n",
        "    def __init__(self, df):\n",
        "        self.users = torch.tensor(df['user_idx'].values, dtype=torch.long)\n",
        "        self.items = torch.tensor(df['item_idx'].values, dtype=torch.long)\n",
        "        self.labels = torch.tensor(df['overall'].values, dtype=torch.float)\n",
        "\n",
        "    def __len__(self):\n",
        "        return len(self.labels)\n",
        "\n",
        "    def __getitem__(self, idx):\n",
        "        return self.users[idx], self.items[idx], self.labels[idx]\n",
        "\n",
        "if 'train_df' in locals():\n",
        "    # --- Create Datasets and DataLoaders ---\n",
        "    train_dataset = RatingsDataset(train_df)\n",
        "    test_dataset = RatingsDataset(test_df)\n",
        "\n",
        "    # DataLoader provides an iterator for easy batching, shuffling, and parallel loading.\n",
        "    train_loader = DataLoader(train_dataset, batch_size=256, shuffle=True)\n",
        "    test_loader = DataLoader(test_dataset, batch_size=256, shuffle=False)\n",
        "    print(\"\\nPyTorch Datasets and DataLoaders created.\")"
      ],
      "metadata": {
        "colab": {
          "base_uri": "https://localhost:8080/"
        },
        "id": "t7fdBjiTmjX1",
        "outputId": "4942f633-af22-4792-d87d-e7e30f777d3b"
      },
      "execution_count": null,
      "outputs": [
        {
          "output_type": "stream",
          "name": "stdout",
          "text": [
            "\n",
            "PyTorch Datasets and DataLoaders created.\n"
          ]
        }
      ]
    },
    {
      "cell_type": "markdown",
      "source": [
        "# Step 4. Neural Collaborative Filtering (NCF) Model Definition\n",
        "- This class defines the architecture of the NCF model, which includes embedding layers for users and items, followed by several fully connected (linear) layers to predict ratings."
      ],
      "metadata": {
        "id": "7BD-cOD4mkgq"
      }
    },
    {
      "cell_type": "code",
      "source": [
        "# --- Define the NCF Model ---\n",
        "class NCF(nn.Module):\n",
        "    \"\"\"Neural Collaborative Filtering (NCF) model.\"\"\"\n",
        "    def __init__(self, num_users, num_items, embedding_dim=64):\n",
        "        super(NCF, self).__init__()\n",
        "        # Embedding layer for users: maps each user_idx to a dense vector.\n",
        "        self.user_embedding = nn.Embedding(num_users, embedding_dim)\n",
        "        # Embedding layer for items: maps each item_idx to a dense vector.\n",
        "        self.item_embedding = nn.Embedding(num_items, embedding_dim)\n",
        "        # A sequence of fully connected layers to learn the interaction between user and item embeddings.\n",
        "        self.fc_layers = nn.Sequential(\n",
        "            nn.Linear(embedding_dim * 2, 128),\n",
        "            nn.ReLU(),\n",
        "            nn.Linear(128, 64),\n",
        "            nn.ReLU(),\n",
        "            nn.Linear(64, 1)  # Final output layer for the predicted rating.\n",
        "        )\n",
        "\n",
        "    def forward(self, user_idx, item_idx):\n",
        "        # Get the embedding vectors for the user and item.\n",
        "        user_embedding_vector = self.user_embedding(user_idx)\n",
        "        item_embedding_vector = self.item_embedding(item_idx)\n",
        "        # Concatenate the two vectors to form a single feature vector.\n",
        "        concatenated_vector = torch.cat([user_embedding_vector, item_embedding_vector], dim=-1)\n",
        "        # Pass the concatenated vector through the fully connected layers and remove the last dimension.\n",
        "        return self.fc_layers(concatenated_vector).squeeze()"
      ],
      "metadata": {
        "id": "O91klcmHmqOF"
      },
      "execution_count": null,
      "outputs": []
    },
    {
      "cell_type": "markdown",
      "source": [
        "# Step 5. Model Training\n",
        "- The NCF model is instantiated, and the training loop is executed for a defined number of epochs. The Mean Squared Error (MSE) loss is minimized using the Adam optimizer."
      ],
      "metadata": {
        "id": "wu5O0Cl6mtIt"
      }
    },
    {
      "cell_type": "code",
      "source": [
        "if 'ratings_df' in locals():\n",
        "    # --- Initialize Model, Loss, and Optimizer ---\n",
        "    # Set the device to GPU ('cuda') if available, otherwise use CPU.\n",
        "    device = torch.device(\"cuda\" if torch.cuda.is_available() else \"cpu\")\n",
        "    print(f\"\\nUsing device: {device}\")\n",
        "\n",
        "    # Instantiate the NCF model.\n",
        "    ncf_model = NCF(\n",
        "        num_users=ratings_df['user_idx'].nunique(),\n",
        "        num_items=ratings_df['item_idx'].nunique(),\n",
        "        embedding_dim=64\n",
        "    ).to(device)\n",
        "\n",
        "    # Define the loss function (Mean Squared Error for regression).\n",
        "    loss_function = nn.MSELoss()\n",
        "    # Define the optimizer (Adam is a popular choice for deep learning).\n",
        "    optimizer = torch.optim.Adam(ncf_model.parameters(), lr=0.001)\n",
        "\n",
        "    # --- Training Loop ---\n",
        "    EPOCHS = 5\n",
        "    print(f\"Starting training for {EPOCHS} epochs...\")\n",
        "\n",
        "    for epoch in range(EPOCHS):\n",
        "        ncf_model.train()  # Set the model to training mode.\n",
        "        total_loss = 0\n",
        "        for user_indices, item_indices, labels in train_loader:\n",
        "            # Move data batch to the selected device (GPU or CPU).\n",
        "            user_indices, item_indices, labels = user_indices.to(device), item_indices.to(device), labels.to(device)\n",
        "\n",
        "            # --- Forward Pass ---\n",
        "            optimizer.zero_grad()  # Reset gradients.\n",
        "            outputs = ncf_model(user_indices, item_indices)\n",
        "            loss = loss_function(outputs, labels)\n",
        "\n",
        "            # --- Backward Pass and Optimization ---\n",
        "            loss.backward()\n",
        "            optimizer.step()\n",
        "\n",
        "            total_loss += loss.item()\n",
        "\n",
        "        avg_loss = total_loss / len(train_loader)\n",
        "        print(f\"Epoch {epoch+1}/{EPOCHS}, Average Training Loss: {avg_loss:.4f}\")"
      ],
      "metadata": {
        "colab": {
          "base_uri": "https://localhost:8080/"
        },
        "id": "mIjkBecXmyIf",
        "outputId": "0cda84a1-07d0-4a41-91de-1f64a13561da"
      },
      "execution_count": null,
      "outputs": [
        {
          "output_type": "stream",
          "name": "stdout",
          "text": [
            "\n",
            "Using device: cuda\n",
            "Starting training for 5 epochs...\n",
            "Epoch 1/5, Average Training Loss: 1.4183\n",
            "Epoch 2/5, Average Training Loss: 1.2193\n",
            "Epoch 3/5, Average Training Loss: 1.0812\n",
            "Epoch 4/5, Average Training Loss: 0.9884\n",
            "Epoch 5/5, Average Training Loss: 0.9162\n"
          ]
        }
      ]
    },
    {
      "cell_type": "markdown",
      "source": [
        "# Step 6. Model Evaluation\n",
        "- After training, the model's performance is evaluated on the unseen test data using the Root Mean Squared Error (RMSE) metric."
      ],
      "metadata": {
        "id": "_bPRGoUBm07D"
      }
    },
    {
      "cell_type": "code",
      "source": [
        "if 'ncf_model' in locals():\n",
        "    # --- Evaluate the Model on the Test Set ---\n",
        "    ncf_model.eval()  # Set the model to evaluation mode (disables dropout, etc.).\n",
        "    true_labels = []\n",
        "    predictions = []\n",
        "\n",
        "    with torch.no_grad():  # Disable gradient calculation for efficiency.\n",
        "        for user_indices, item_indices, labels in test_loader:\n",
        "            user_indices, item_indices = user_indices.to(device), item_indices.to(device)\n",
        "\n",
        "            # Get model predictions and move them to the CPU for NumPy conversion.\n",
        "            outputs = ncf_model(user_indices, item_indices).cpu().numpy()\n",
        "            predictions.extend(outputs)\n",
        "            true_labels.extend(labels.numpy())\n",
        "\n",
        "    # Calculate Root Mean Squared Error (RMSE).\n",
        "    rmse = np.sqrt(mean_squared_error(true_labels, predictions))\n",
        "    print(f\"\\nTest RMSE: {rmse:.4f}\")"
      ],
      "metadata": {
        "colab": {
          "base_uri": "https://localhost:8080/"
        },
        "id": "paCHA5s5m6V1",
        "outputId": "34bfcba1-3696-4620-a0f3-ee5041aad6bd"
      },
      "execution_count": null,
      "outputs": [
        {
          "output_type": "stream",
          "name": "stdout",
          "text": [
            "\n",
            "Test RMSE: 1.1303\n"
          ]
        }
      ]
    },
    {
      "cell_type": "markdown",
      "source": [
        "# Step 7. Saving Artifacts\n",
        "- The trained model state, evaluation results, and the crucial user_id/asin to integer index mappings are saved for future use in prediction tasks."
      ],
      "metadata": {
        "id": "sSWtHIVym-US"
      }
    },
    {
      "cell_type": "code",
      "source": [
        "if 'ncf_model' in locals():\n",
        "    # --- Save the Trained Model State Dictionary ---\n",
        "    torch.save(ncf_model.state_dict(), MODEL_SAVE_PATH)\n",
        "    print(f\"Model state dictionary saved to: {MODEL_SAVE_PATH}\")\n",
        "\n",
        "    # --- Save the Evaluation Metric ---\n",
        "    with open(EVALUATION_SAVE_PATH, 'w', newline='') as f:\n",
        "        writer = csv.writer(f)\n",
        "        writer.writerow(['Metric', 'Value'])\n",
        "        writer.writerow(['RMSE', rmse])\n",
        "    print(f\"Evaluation metrics saved to: {EVALUATION_SAVE_PATH}\")\n",
        "\n",
        "    # --- Create and Save User/Item ID Mappings ---\n",
        "    # These mappings are essential to convert raw IDs to model indices during inference.\n",
        "    user_id_to_idx = {uid: idx for idx, uid in enumerate(ratings_df['reviewerID'].astype(\"category\").cat.categories)}\n",
        "    item_id_to_idx = {asin: idx for idx, asin in enumerate(ratings_df['asin'].astype(\"category\").cat.categories)}\n",
        "\n",
        "    with open(MAPPINGS_SAVE_PATH, 'wb') as f:\n",
        "        pickle.dump((user_id_to_idx, item_id_to_idx), f)\n",
        "    print(f\"User and item ID mappings saved to: {MAPPINGS_SAVE_PATH}\")"
      ],
      "metadata": {
        "colab": {
          "base_uri": "https://localhost:8080/"
        },
        "id": "OjAwWl_bnCMJ",
        "outputId": "0eb2a8ff-8495-40a4-f095-0a6c05c2752b"
      },
      "execution_count": null,
      "outputs": [
        {
          "output_type": "stream",
          "name": "stdout",
          "text": [
            "Model state dictionary saved to: /content/drive/MyDrive/Amazon_Recommender/models/11_ncf_model.pt\n",
            "Evaluation metrics saved to: /content/drive/MyDrive/Amazon_Recommender/data/processed/11_ncf_evaluation_metrics.csv\n",
            "User and item ID mappings saved to: /content/drive/MyDrive/Amazon_Recommender/models/11_ncf_mappings.pkl\n"
          ]
        }
      ]
    },
    {
      "cell_type": "markdown",
      "source": [
        "# Previous Version w/o Annotation"
      ],
      "metadata": {
        "id": "g8FSPRENrtkV"
      }
    },
    {
      "cell_type": "markdown",
      "metadata": {
        "id": "jnJLoyAzvJgU"
      },
      "source": [
        " ### Step 1: Load and Prepare the Data"
      ]
    },
    {
      "cell_type": "code",
      "execution_count": null,
      "metadata": {
        "id": "GNdhPEe9ojev"
      },
      "outputs": [],
      "source": [
        "import pandas as pd\n",
        "from sklearn.model_selection import train_test_split\n",
        "import torch\n",
        "from torch.utils.data import Dataset, DataLoader"
      ]
    },
    {
      "cell_type": "code",
      "execution_count": null,
      "metadata": {
        "colab": {
          "base_uri": "https://localhost:8080/"
        },
        "id": "FNDsl6M5oJE3",
        "outputId": "96818af0-390e-4a0a-8613-ec4a1d78dcca"
      },
      "outputs": [
        {
          "output_type": "stream",
          "name": "stderr",
          "text": [
            "/tmp/ipython-input-18-1055431489.py:1: DtypeWarning: Columns (1) have mixed types. Specify dtype option on import or set low_memory=False.\n",
            "  df = pd.read_csv('/content/drive/MyDrive/Amazon_Recommender/data/raw/Electronics_5.csv')\n"
          ]
        }
      ],
      "source": [
        "df = pd.read_csv('/content/drive/MyDrive/Amazon_Recommender/data/raw/Electronics_5.csv')"
      ]
    },
    {
      "cell_type": "code",
      "execution_count": null,
      "metadata": {
        "id": "3HPaiNLust6-"
      },
      "outputs": [],
      "source": [
        "df.head(len(df) // 10).to_csv('/content/drive/MyDrive/Amazon_Recommender/data/processed/10_%_raw_data.csv', index=False)"
      ]
    },
    {
      "cell_type": "code",
      "execution_count": null,
      "metadata": {
        "id": "75D2-tN2ruDO"
      },
      "outputs": [],
      "source": [
        "# Why? Neural networks need numbers, not strings.\n",
        "df['user_idx'] = df['reviewerID'].astype(\"category\").cat.codes\n",
        "df['item_idx'] = df['asin'].astype(\"category\").cat.codes\n",
        "\n",
        "train, test = train_test_split(df, test_size = 0.2, random_state = 42)"
      ]
    },
    {
      "cell_type": "code",
      "execution_count": null,
      "metadata": {
        "id": "NBpHYacg1tyA"
      },
      "outputs": [],
      "source": [
        "df['user_idx'].values"
      ]
    },
    {
      "cell_type": "markdown",
      "metadata": {
        "id": "T4RQwamKvMuJ"
      },
      "source": [
        "### Step 2: Create a PyTorch Dataset"
      ]
    },
    {
      "cell_type": "code",
      "execution_count": null,
      "metadata": {
        "id": "5jFyxcjzvUc1"
      },
      "outputs": [],
      "source": [
        "class RatingsDataset(Dataset):\n",
        "    def __init__(self, df):\n",
        "        self.users = torch.tensor(df['user_idx'].values, dtype = torch.long)\n",
        "        self.items = torch.tensor(df['item_idx'].values, dtype=torch.long)\n",
        "        self.labels = torch.tensor(df['overall'].values, dtype=torch.float)\n",
        "\n",
        "    def __len__(self):\n",
        "        return len(self.labels)\n",
        "\n",
        "    def __getitem__(self, idx):\n",
        "        return self.users[idx], self.items[idx], self.labels[idx]\n",
        "\n",
        "train_dataset = RatingsDataset(train)\n",
        "test_dataset = RatingsDataset(test)\n",
        "\n",
        "train_loader = DataLoader(train_dataset, batch_size=256, shuffle=True)\n",
        "test_loader = DataLoader(test_dataset, batch_size=256)"
      ]
    },
    {
      "cell_type": "markdown",
      "metadata": {
        "id": "JKOU-cQK1UgQ"
      },
      "source": [
        "### Step3: Define the Neural Network"
      ]
    },
    {
      "cell_type": "code",
      "execution_count": null,
      "metadata": {
        "id": "x7qgcvfH1daM"
      },
      "outputs": [],
      "source": [
        "import torch.nn as nn\n",
        "\n",
        "class NCF(nn.Module):\n",
        "    def __init__(self, num_users, num_items, embedding_dim=64):\n",
        "        super(NCF, self).__init__()\n",
        "        self.user_embedding = nn.Embedding(num_users, embedding_dim)\n",
        "        self.item_embedding = nn.Embedding(num_items, embedding_dim)\n",
        "\n",
        "        self.fc_layers = nn.Sequential(\n",
        "            nn.Linear(embedding_dim * 2, 128),\n",
        "            nn.ReLU(),\n",
        "            nn.Linear(128, 64),\n",
        "            nn.ReLU(),\n",
        "            nn.Linear(64, 1)  # output predicted rating\n",
        "        )\n",
        "\n",
        "    def forward(self, user_idx, item_idx):\n",
        "        user_emb = self.user_embedding(user_idx)\n",
        "        item_emb = self.item_embedding(item_idx)\n",
        "        x = torch.cat([user_emb, item_emb], dim=-1)\n",
        "        return self.fc_layers(x).squeeze()\n"
      ]
    },
    {
      "cell_type": "markdown",
      "metadata": {
        "id": "xATtp-B_OV94"
      },
      "source": [
        "### Step 4: Train the Model"
      ]
    },
    {
      "cell_type": "code",
      "execution_count": null,
      "metadata": {
        "colab": {
          "base_uri": "https://localhost:8080/"
        },
        "id": "HHn41IeuOYui",
        "outputId": "91a51838-f788-4fdd-99fc-6158848159af"
      },
      "outputs": [
        {
          "name": "stdout",
          "output_type": "stream",
          "text": [
            "Epoch 1/5, Loss: 1.4126\n",
            "Epoch 2/5, Loss: 1.2185\n",
            "Epoch 3/5, Loss: 1.0703\n",
            "Epoch 4/5, Loss: 0.9714\n",
            "Epoch 5/5, Loss: 0.9002\n"
          ]
        }
      ],
      "source": [
        "model = NCF(num_users=df['user_idx'].nunique(), num_items=df['item_idx'].nunique())\n",
        "device = torch.device(\"cuda\" if torch.cuda.is_available() else \"cpu\")\n",
        "model = model.to(device)\n",
        "\n",
        "criterion = nn.MSELoss()\n",
        "optimizer = torch.optim.Adam(model.parameters(), lr=0.001)\n",
        "\n",
        "EPOCHS = 5\n",
        "for epoch in range(EPOCHS):\n",
        "    model.train()\n",
        "    total_loss = 0\n",
        "    for user, item, label in train_loader:\n",
        "        user, item, label = user.to(device), item.to(device), label.to(device)\n",
        "        optimizer.zero_grad()\n",
        "        output = model(user, item)\n",
        "        loss = criterion(output, label)\n",
        "        loss.backward()\n",
        "        optimizer.step()\n",
        "        total_loss += loss.item()\n",
        "\n",
        "    print(f\"Epoch {epoch+1}/{EPOCHS}, Loss: {total_loss/len(train_loader):.4f}\")\n"
      ]
    },
    {
      "cell_type": "markdown",
      "metadata": {
        "id": "ctKNBcelac_k"
      },
      "source": [
        "### Step 5: Evaluate NCF"
      ]
    },
    {
      "cell_type": "code",
      "execution_count": null,
      "metadata": {
        "colab": {
          "base_uri": "https://localhost:8080/"
        },
        "id": "Yzg4leB8aTrO",
        "outputId": "b197c576-61a9-4a6e-ce0c-34012ba2afc9"
      },
      "outputs": [
        {
          "name": "stdout",
          "output_type": "stream",
          "text": [
            "Test RMSE: 1.1306\n"
          ]
        }
      ],
      "source": [
        "from sklearn.metrics import mean_squared_error\n",
        "import numpy as np\n",
        "\n",
        "model.eval()\n",
        "true_labels = []\n",
        "predictions = []\n",
        "\n",
        "with torch.no_grad():\n",
        "    for user, item, label in test_loader:\n",
        "        user, item = user.to(device), item.to(device)\n",
        "        output = model(user, item).cpu().numpy()\n",
        "        predictions.extend(output)\n",
        "        true_labels.extend(label.numpy())\n",
        "\n",
        "rmse = np.sqrt(mean_squared_error(true_labels, predictions))\n",
        "print(f\"Test RMSE: {rmse:.4f}\")\n"
      ]
    },
    {
      "cell_type": "markdown",
      "metadata": {
        "id": "fiLBPjKMcyS2"
      },
      "source": [
        "### Step 6: Save the Model & Results"
      ]
    },
    {
      "cell_type": "code",
      "execution_count": null,
      "metadata": {
        "id": "VT7L0f2zcuGo"
      },
      "outputs": [],
      "source": [
        "torch.save(model.state_dict(), '/content/drive/MyDrive/Amazon_Recommender/models/ncf_model.pt')\n",
        "\n",
        "import csv\n",
        "with open('/content/drive/MyDrive/Amazon_Recommender/data/processed/ncf_eval.csv', 'w') as f:\n",
        "    writer = csv.writer(f)\n",
        "    writer.writerow(['RMSE'])\n",
        "    writer.writerow([rmse])\n"
      ]
    },
    {
      "cell_type": "code",
      "execution_count": null,
      "metadata": {
        "colab": {
          "base_uri": "https://localhost:8080/"
        },
        "id": "BTQzBxgjd74w",
        "outputId": "86002c01-0fce-4ce6-e4f1-8c14b3d19143"
      },
      "outputs": [
        {
          "name": "stderr",
          "output_type": "stream",
          "text": [
            "/tmp/ipython-input-2-2645016086.py:5: DtypeWarning: Columns (1) have mixed types. Specify dtype option on import or set low_memory=False.\n",
            "  df = pd.read_csv('/content/drive/MyDrive/Amazon_Recommender/data/raw/Electronics_5.csv')\n"
          ]
        }
      ],
      "source": [
        "import pandas as pd\n",
        "import pickle\n",
        "\n",
        "# Load raw data again\n",
        "df = pd.read_csv('/content/drive/MyDrive/Amazon_Recommender/data/raw/Electronics_5.csv')\n",
        "\n",
        "# Recreate user/item mappings\n",
        "unique_users = df['reviewerID'].unique()\n",
        "unique_items = df['asin'].unique()\n",
        "\n",
        "user2idx = {uid: idx for idx, uid in enumerate(unique_users)}\n",
        "item2idx = {asin: idx for idx, asin in enumerate(unique_items)}\n",
        "\n",
        "# Save the mappings for Day 12\n",
        "with open('/content/drive/MyDrive/Amazon_Recommender/models/user_item_mappings.pkl', 'wb') as f:\n",
        "    pickle.dump((user2idx, item2idx), f)"
      ]
    },
    {
      "cell_type": "markdown",
      "source": [
        "### Step 7: Make Function"
      ],
      "metadata": {
        "id": "u2JefN9FNcbc"
      }
    },
    {
      "cell_type": "code",
      "source": [
        "class RatingsDataset(Dataset):\n",
        "    def __init__(self, df):\n",
        "        self.users = torch.tensor(df['user_idx'].values, dtype = torch.long)\n",
        "        self.items = torch.tensor(df['item_idx'].values, dtype=torch.long)\n",
        "\n",
        "    def __len__(self):\n",
        "        return len(self.items)\n",
        "\n",
        "    def __getitem__(self, idx):\n",
        "        return self.users[idx], self.items[idx]\n",
        "\n",
        "import torch.nn as nn\n",
        "\n",
        "class NCF(nn.Module):\n",
        "    def __init__(self, num_users, num_items, embedding_dim=64):\n",
        "        super(NCF, self).__init__()\n",
        "        self.user_embedding = nn.Embedding(num_users, embedding_dim)\n",
        "        self.item_embedding = nn.Embedding(num_items, embedding_dim)\n",
        "\n",
        "        self.fc_layers = nn.Sequential(\n",
        "            nn.Linear(embedding_dim * 2, 128),\n",
        "            nn.ReLU(),\n",
        "            nn.Linear(128, 64),\n",
        "            nn.ReLU(),\n",
        "            nn.Linear(64, 1)  # output predicted rating\n",
        "        )\n",
        "\n",
        "    def forward(self, user_idx, item_idx):\n",
        "        user_emb = self.user_embedding(user_idx)\n",
        "        item_emb = self.item_embedding(item_idx)\n",
        "        x = torch.cat([user_emb, item_emb], dim=-1)\n",
        "        return self.fc_layers(x).squeeze()\n",
        "\n",
        "def cal_ncf(model_path, mapping_path, df, embedding_dim=64, batch_size=256):\n",
        "\n",
        "    def load_model_and_mappings(model_path, mapping_path, embedding_dim=64):\n",
        "\n",
        "        with open(mapping_path, 'rb') as f:\n",
        "            user2idx, item2idx = pickle.load(f)\n",
        "\n",
        "        model = NCF(num_users=len(user2idx), num_items=len(item2idx), embedding_dim=embedding_dim)\n",
        "        model.load_state_dict(torch.load(model_path))\n",
        "        model.eval()\n",
        "\n",
        "        return model, user2idx, item2idx\n",
        "\n",
        "\n",
        "    def predict_rating(model, user2idx, item2idx, user_id, asin):\n",
        "        if user_id not in user2idx:\n",
        "            raise ValueError(f\"User {user_id} is not in mappings\")\n",
        "        if asin not in item2idx:\n",
        "            raise ValueError(f\"Item {asin} is not in mappings\")\n",
        "\n",
        "        user_idx = torch.tensor([user2idx[user_id]], dtype=torch.long)\n",
        "        item_idx = torch.tensor([item2idx[asin]], dtype=torch.long)\n",
        "\n",
        "        with torch.no_grad():\n",
        "            pred = model(user_idx, item_idx)\n",
        "\n",
        "        return pred.item()\n",
        "\n",
        "\n",
        "    def predict_ratings_batch(model, user2idx, item2idx, df):\n",
        "        valid_rows = df[df['user_id'].isin(user2idx) & df['item_id'].isin(item2idx)].copy()\n",
        "\n",
        "        users_tensor = torch.tensor([user2idx[u] for u in valid_rows['user_id']], dtype=torch.long)\n",
        "        items_tensor = torch.tensor([item2idx[i] for i in valid_rows['item_id']], dtype=torch.long)\n",
        "\n",
        "        with torch.no_grad():\n",
        "            preds = model(users_tensor, items_tensor).numpy()\n",
        "\n",
        "        valid_rows['NCF'] = preds\n",
        "        return valid_rows\n",
        "\n",
        "    model, user2idx, item2idx = load_model_and_mappings(model_path, mapping_path, embedding_dim)\n",
        "    return predict_ratings_batch(model, user2idx, item2idx, df)"
      ],
      "metadata": {
        "id": "VgCroSEXNh6k"
      },
      "execution_count": null,
      "outputs": []
    },
    {
      "cell_type": "code",
      "source": [
        "import pickle\n",
        "df_test = df.head(1000).copy().rename(columns={'reviewerID': 'user_id', 'asin': 'item_id'})\n",
        "# model, user2idx, item2idx = load_model_and_mappings('/content/drive/MyDrive/Amazon_Recommender/models/11_ncf_model.pt', '/content/drive/MyDrive/Amazon_Recommender/models/11_user_item_mappings.pkl')\n",
        "\n",
        "cal_ncf('/content/drive/MyDrive/Amazon_Recommender/models/11_ncf_model.pt', '/content/drive/MyDrive/Amazon_Recommender/models/11_user_item_mappings.pkl', df_test[['user_id', 'item_id', 'overall']].sample(5))"
      ],
      "metadata": {
        "colab": {
          "base_uri": "https://localhost:8080/",
          "height": 395
        },
        "id": "PHXg-V00PqRU",
        "outputId": "fdb9993b-0c70-4a93-f560-7ae576895726"
      },
      "execution_count": null,
      "outputs": [
        {
          "output_type": "display_data",
          "data": {
            "text/plain": [
              "            user_id     item_id  overall\n",
              "561  A3TG05J8EU1EDF  0972683275      5.0\n",
              "304  A3B2DFMVEIT8TS  0789743035      3.0\n",
              "612  A22UL4BXTSXSCB  0972683275      4.0\n",
              "188  A11W8EXJ8PGCEM  059449771X      5.0\n",
              "854  A3AQM5GA7LVDXG  106171327X      2.0"
            ],
            "text/html": [
              "\n",
              "  <div id=\"df-45cdcd18-59e2-485e-89ed-eb998d280663\" class=\"colab-df-container\">\n",
              "    <div>\n",
              "<style scoped>\n",
              "    .dataframe tbody tr th:only-of-type {\n",
              "        vertical-align: middle;\n",
              "    }\n",
              "\n",
              "    .dataframe tbody tr th {\n",
              "        vertical-align: top;\n",
              "    }\n",
              "\n",
              "    .dataframe thead th {\n",
              "        text-align: right;\n",
              "    }\n",
              "</style>\n",
              "<table border=\"1\" class=\"dataframe\">\n",
              "  <thead>\n",
              "    <tr style=\"text-align: right;\">\n",
              "      <th></th>\n",
              "      <th>user_id</th>\n",
              "      <th>item_id</th>\n",
              "      <th>overall</th>\n",
              "    </tr>\n",
              "  </thead>\n",
              "  <tbody>\n",
              "    <tr>\n",
              "      <th>561</th>\n",
              "      <td>A3TG05J8EU1EDF</td>\n",
              "      <td>0972683275</td>\n",
              "      <td>5.0</td>\n",
              "    </tr>\n",
              "    <tr>\n",
              "      <th>304</th>\n",
              "      <td>A3B2DFMVEIT8TS</td>\n",
              "      <td>0789743035</td>\n",
              "      <td>3.0</td>\n",
              "    </tr>\n",
              "    <tr>\n",
              "      <th>612</th>\n",
              "      <td>A22UL4BXTSXSCB</td>\n",
              "      <td>0972683275</td>\n",
              "      <td>4.0</td>\n",
              "    </tr>\n",
              "    <tr>\n",
              "      <th>188</th>\n",
              "      <td>A11W8EXJ8PGCEM</td>\n",
              "      <td>059449771X</td>\n",
              "      <td>5.0</td>\n",
              "    </tr>\n",
              "    <tr>\n",
              "      <th>854</th>\n",
              "      <td>A3AQM5GA7LVDXG</td>\n",
              "      <td>106171327X</td>\n",
              "      <td>2.0</td>\n",
              "    </tr>\n",
              "  </tbody>\n",
              "</table>\n",
              "</div>\n",
              "    <div class=\"colab-df-buttons\">\n",
              "\n",
              "  <div class=\"colab-df-container\">\n",
              "    <button class=\"colab-df-convert\" onclick=\"convertToInteractive('df-45cdcd18-59e2-485e-89ed-eb998d280663')\"\n",
              "            title=\"Convert this dataframe to an interactive table.\"\n",
              "            style=\"display:none;\">\n",
              "\n",
              "  <svg xmlns=\"http://www.w3.org/2000/svg\" height=\"24px\" viewBox=\"0 -960 960 960\">\n",
              "    <path d=\"M120-120v-720h720v720H120Zm60-500h600v-160H180v160Zm220 220h160v-160H400v160Zm0 220h160v-160H400v160ZM180-400h160v-160H180v160Zm440 0h160v-160H620v160ZM180-180h160v-160H180v160Zm440 0h160v-160H620v160Z\"/>\n",
              "  </svg>\n",
              "    </button>\n",
              "\n",
              "  <style>\n",
              "    .colab-df-container {\n",
              "      display:flex;\n",
              "      gap: 12px;\n",
              "    }\n",
              "\n",
              "    .colab-df-convert {\n",
              "      background-color: #E8F0FE;\n",
              "      border: none;\n",
              "      border-radius: 50%;\n",
              "      cursor: pointer;\n",
              "      display: none;\n",
              "      fill: #1967D2;\n",
              "      height: 32px;\n",
              "      padding: 0 0 0 0;\n",
              "      width: 32px;\n",
              "    }\n",
              "\n",
              "    .colab-df-convert:hover {\n",
              "      background-color: #E2EBFA;\n",
              "      box-shadow: 0px 1px 2px rgba(60, 64, 67, 0.3), 0px 1px 3px 1px rgba(60, 64, 67, 0.15);\n",
              "      fill: #174EA6;\n",
              "    }\n",
              "\n",
              "    .colab-df-buttons div {\n",
              "      margin-bottom: 4px;\n",
              "    }\n",
              "\n",
              "    [theme=dark] .colab-df-convert {\n",
              "      background-color: #3B4455;\n",
              "      fill: #D2E3FC;\n",
              "    }\n",
              "\n",
              "    [theme=dark] .colab-df-convert:hover {\n",
              "      background-color: #434B5C;\n",
              "      box-shadow: 0px 1px 3px 1px rgba(0, 0, 0, 0.15);\n",
              "      filter: drop-shadow(0px 1px 2px rgba(0, 0, 0, 0.3));\n",
              "      fill: #FFFFFF;\n",
              "    }\n",
              "  </style>\n",
              "\n",
              "    <script>\n",
              "      const buttonEl =\n",
              "        document.querySelector('#df-45cdcd18-59e2-485e-89ed-eb998d280663 button.colab-df-convert');\n",
              "      buttonEl.style.display =\n",
              "        google.colab.kernel.accessAllowed ? 'block' : 'none';\n",
              "\n",
              "      async function convertToInteractive(key) {\n",
              "        const element = document.querySelector('#df-45cdcd18-59e2-485e-89ed-eb998d280663');\n",
              "        const dataTable =\n",
              "          await google.colab.kernel.invokeFunction('convertToInteractive',\n",
              "                                                    [key], {});\n",
              "        if (!dataTable) return;\n",
              "\n",
              "        const docLinkHtml = 'Like what you see? Visit the ' +\n",
              "          '<a target=\"_blank\" href=https://colab.research.google.com/notebooks/data_table.ipynb>data table notebook</a>'\n",
              "          + ' to learn more about interactive tables.';\n",
              "        element.innerHTML = '';\n",
              "        dataTable['output_type'] = 'display_data';\n",
              "        await google.colab.output.renderOutput(dataTable, element);\n",
              "        const docLink = document.createElement('div');\n",
              "        docLink.innerHTML = docLinkHtml;\n",
              "        element.appendChild(docLink);\n",
              "      }\n",
              "    </script>\n",
              "  </div>\n",
              "\n",
              "\n",
              "    <div id=\"df-7d00c593-5d41-422f-925e-9bd210113214\">\n",
              "      <button class=\"colab-df-quickchart\" onclick=\"quickchart('df-7d00c593-5d41-422f-925e-9bd210113214')\"\n",
              "                title=\"Suggest charts\"\n",
              "                style=\"display:none;\">\n",
              "\n",
              "<svg xmlns=\"http://www.w3.org/2000/svg\" height=\"24px\"viewBox=\"0 0 24 24\"\n",
              "     width=\"24px\">\n",
              "    <g>\n",
              "        <path d=\"M19 3H5c-1.1 0-2 .9-2 2v14c0 1.1.9 2 2 2h14c1.1 0 2-.9 2-2V5c0-1.1-.9-2-2-2zM9 17H7v-7h2v7zm4 0h-2V7h2v10zm4 0h-2v-4h2v4z\"/>\n",
              "    </g>\n",
              "</svg>\n",
              "      </button>\n",
              "\n",
              "<style>\n",
              "  .colab-df-quickchart {\n",
              "      --bg-color: #E8F0FE;\n",
              "      --fill-color: #1967D2;\n",
              "      --hover-bg-color: #E2EBFA;\n",
              "      --hover-fill-color: #174EA6;\n",
              "      --disabled-fill-color: #AAA;\n",
              "      --disabled-bg-color: #DDD;\n",
              "  }\n",
              "\n",
              "  [theme=dark] .colab-df-quickchart {\n",
              "      --bg-color: #3B4455;\n",
              "      --fill-color: #D2E3FC;\n",
              "      --hover-bg-color: #434B5C;\n",
              "      --hover-fill-color: #FFFFFF;\n",
              "      --disabled-bg-color: #3B4455;\n",
              "      --disabled-fill-color: #666;\n",
              "  }\n",
              "\n",
              "  .colab-df-quickchart {\n",
              "    background-color: var(--bg-color);\n",
              "    border: none;\n",
              "    border-radius: 50%;\n",
              "    cursor: pointer;\n",
              "    display: none;\n",
              "    fill: var(--fill-color);\n",
              "    height: 32px;\n",
              "    padding: 0;\n",
              "    width: 32px;\n",
              "  }\n",
              "\n",
              "  .colab-df-quickchart:hover {\n",
              "    background-color: var(--hover-bg-color);\n",
              "    box-shadow: 0 1px 2px rgba(60, 64, 67, 0.3), 0 1px 3px 1px rgba(60, 64, 67, 0.15);\n",
              "    fill: var(--button-hover-fill-color);\n",
              "  }\n",
              "\n",
              "  .colab-df-quickchart-complete:disabled,\n",
              "  .colab-df-quickchart-complete:disabled:hover {\n",
              "    background-color: var(--disabled-bg-color);\n",
              "    fill: var(--disabled-fill-color);\n",
              "    box-shadow: none;\n",
              "  }\n",
              "\n",
              "  .colab-df-spinner {\n",
              "    border: 2px solid var(--fill-color);\n",
              "    border-color: transparent;\n",
              "    border-bottom-color: var(--fill-color);\n",
              "    animation:\n",
              "      spin 1s steps(1) infinite;\n",
              "  }\n",
              "\n",
              "  @keyframes spin {\n",
              "    0% {\n",
              "      border-color: transparent;\n",
              "      border-bottom-color: var(--fill-color);\n",
              "      border-left-color: var(--fill-color);\n",
              "    }\n",
              "    20% {\n",
              "      border-color: transparent;\n",
              "      border-left-color: var(--fill-color);\n",
              "      border-top-color: var(--fill-color);\n",
              "    }\n",
              "    30% {\n",
              "      border-color: transparent;\n",
              "      border-left-color: var(--fill-color);\n",
              "      border-top-color: var(--fill-color);\n",
              "      border-right-color: var(--fill-color);\n",
              "    }\n",
              "    40% {\n",
              "      border-color: transparent;\n",
              "      border-right-color: var(--fill-color);\n",
              "      border-top-color: var(--fill-color);\n",
              "    }\n",
              "    60% {\n",
              "      border-color: transparent;\n",
              "      border-right-color: var(--fill-color);\n",
              "    }\n",
              "    80% {\n",
              "      border-color: transparent;\n",
              "      border-right-color: var(--fill-color);\n",
              "      border-bottom-color: var(--fill-color);\n",
              "    }\n",
              "    90% {\n",
              "      border-color: transparent;\n",
              "      border-bottom-color: var(--fill-color);\n",
              "    }\n",
              "  }\n",
              "</style>\n",
              "\n",
              "      <script>\n",
              "        async function quickchart(key) {\n",
              "          const quickchartButtonEl =\n",
              "            document.querySelector('#' + key + ' button');\n",
              "          quickchartButtonEl.disabled = true;  // To prevent multiple clicks.\n",
              "          quickchartButtonEl.classList.add('colab-df-spinner');\n",
              "          try {\n",
              "            const charts = await google.colab.kernel.invokeFunction(\n",
              "                'suggestCharts', [key], {});\n",
              "          } catch (error) {\n",
              "            console.error('Error during call to suggestCharts:', error);\n",
              "          }\n",
              "          quickchartButtonEl.classList.remove('colab-df-spinner');\n",
              "          quickchartButtonEl.classList.add('colab-df-quickchart-complete');\n",
              "        }\n",
              "        (() => {\n",
              "          let quickchartButtonEl =\n",
              "            document.querySelector('#df-7d00c593-5d41-422f-925e-9bd210113214 button');\n",
              "          quickchartButtonEl.style.display =\n",
              "            google.colab.kernel.accessAllowed ? 'block' : 'none';\n",
              "        })();\n",
              "      </script>\n",
              "    </div>\n",
              "\n",
              "    </div>\n",
              "  </div>\n"
            ],
            "application/vnd.google.colaboratory.intrinsic+json": {
              "type": "dataframe",
              "summary": "{\n  \"name\": \"cal_ncf('/content/drive/MyDrive/Amazon_Recommender/models/11_ncf_model\",\n  \"rows\": 5,\n  \"fields\": [\n    {\n      \"column\": \"user_id\",\n      \"properties\": {\n        \"dtype\": \"string\",\n        \"num_unique_values\": 5,\n        \"samples\": [\n          \"A3B2DFMVEIT8TS\",\n          \"A3AQM5GA7LVDXG\",\n          \"A22UL4BXTSXSCB\"\n        ],\n        \"semantic_type\": \"\",\n        \"description\": \"\"\n      }\n    },\n    {\n      \"column\": \"item_id\",\n      \"properties\": {\n        \"dtype\": \"string\",\n        \"num_unique_values\": 4,\n        \"samples\": [\n          \"0789743035\",\n          \"106171327X\",\n          \"0972683275\"\n        ],\n        \"semantic_type\": \"\",\n        \"description\": \"\"\n      }\n    },\n    {\n      \"column\": \"overall\",\n      \"properties\": {\n        \"dtype\": \"number\",\n        \"std\": 1.3038404810405297,\n        \"min\": 2.0,\n        \"max\": 5.0,\n        \"num_unique_values\": 4,\n        \"samples\": [\n          3.0,\n          2.0,\n          5.0\n        ],\n        \"semantic_type\": \"\",\n        \"description\": \"\"\n      }\n    }\n  ]\n}"
            }
          },
          "metadata": {}
        },
        {
          "output_type": "execute_result",
          "data": {
            "text/plain": [
              "            user_id     item_id  overall       NCF\n",
              "561  A3TG05J8EU1EDF  0972683275      5.0  2.791043\n",
              "304  A3B2DFMVEIT8TS  0789743035      3.0  4.599814\n",
              "612  A22UL4BXTSXSCB  0972683275      4.0  4.562771\n",
              "188  A11W8EXJ8PGCEM  059449771X      5.0  4.798499\n",
              "854  A3AQM5GA7LVDXG  106171327X      2.0  4.665658"
            ],
            "text/html": [
              "\n",
              "  <div id=\"df-83b235ec-b485-4049-b58a-a3d8d5a2a4e9\" class=\"colab-df-container\">\n",
              "    <div>\n",
              "<style scoped>\n",
              "    .dataframe tbody tr th:only-of-type {\n",
              "        vertical-align: middle;\n",
              "    }\n",
              "\n",
              "    .dataframe tbody tr th {\n",
              "        vertical-align: top;\n",
              "    }\n",
              "\n",
              "    .dataframe thead th {\n",
              "        text-align: right;\n",
              "    }\n",
              "</style>\n",
              "<table border=\"1\" class=\"dataframe\">\n",
              "  <thead>\n",
              "    <tr style=\"text-align: right;\">\n",
              "      <th></th>\n",
              "      <th>user_id</th>\n",
              "      <th>item_id</th>\n",
              "      <th>overall</th>\n",
              "      <th>NCF</th>\n",
              "    </tr>\n",
              "  </thead>\n",
              "  <tbody>\n",
              "    <tr>\n",
              "      <th>561</th>\n",
              "      <td>A3TG05J8EU1EDF</td>\n",
              "      <td>0972683275</td>\n",
              "      <td>5.0</td>\n",
              "      <td>2.791043</td>\n",
              "    </tr>\n",
              "    <tr>\n",
              "      <th>304</th>\n",
              "      <td>A3B2DFMVEIT8TS</td>\n",
              "      <td>0789743035</td>\n",
              "      <td>3.0</td>\n",
              "      <td>4.599814</td>\n",
              "    </tr>\n",
              "    <tr>\n",
              "      <th>612</th>\n",
              "      <td>A22UL4BXTSXSCB</td>\n",
              "      <td>0972683275</td>\n",
              "      <td>4.0</td>\n",
              "      <td>4.562771</td>\n",
              "    </tr>\n",
              "    <tr>\n",
              "      <th>188</th>\n",
              "      <td>A11W8EXJ8PGCEM</td>\n",
              "      <td>059449771X</td>\n",
              "      <td>5.0</td>\n",
              "      <td>4.798499</td>\n",
              "    </tr>\n",
              "    <tr>\n",
              "      <th>854</th>\n",
              "      <td>A3AQM5GA7LVDXG</td>\n",
              "      <td>106171327X</td>\n",
              "      <td>2.0</td>\n",
              "      <td>4.665658</td>\n",
              "    </tr>\n",
              "  </tbody>\n",
              "</table>\n",
              "</div>\n",
              "    <div class=\"colab-df-buttons\">\n",
              "\n",
              "  <div class=\"colab-df-container\">\n",
              "    <button class=\"colab-df-convert\" onclick=\"convertToInteractive('df-83b235ec-b485-4049-b58a-a3d8d5a2a4e9')\"\n",
              "            title=\"Convert this dataframe to an interactive table.\"\n",
              "            style=\"display:none;\">\n",
              "\n",
              "  <svg xmlns=\"http://www.w3.org/2000/svg\" height=\"24px\" viewBox=\"0 -960 960 960\">\n",
              "    <path d=\"M120-120v-720h720v720H120Zm60-500h600v-160H180v160Zm220 220h160v-160H400v160Zm0 220h160v-160H400v160ZM180-400h160v-160H180v160Zm440 0h160v-160H620v160ZM180-180h160v-160H180v160Zm440 0h160v-160H620v160Z\"/>\n",
              "  </svg>\n",
              "    </button>\n",
              "\n",
              "  <style>\n",
              "    .colab-df-container {\n",
              "      display:flex;\n",
              "      gap: 12px;\n",
              "    }\n",
              "\n",
              "    .colab-df-convert {\n",
              "      background-color: #E8F0FE;\n",
              "      border: none;\n",
              "      border-radius: 50%;\n",
              "      cursor: pointer;\n",
              "      display: none;\n",
              "      fill: #1967D2;\n",
              "      height: 32px;\n",
              "      padding: 0 0 0 0;\n",
              "      width: 32px;\n",
              "    }\n",
              "\n",
              "    .colab-df-convert:hover {\n",
              "      background-color: #E2EBFA;\n",
              "      box-shadow: 0px 1px 2px rgba(60, 64, 67, 0.3), 0px 1px 3px 1px rgba(60, 64, 67, 0.15);\n",
              "      fill: #174EA6;\n",
              "    }\n",
              "\n",
              "    .colab-df-buttons div {\n",
              "      margin-bottom: 4px;\n",
              "    }\n",
              "\n",
              "    [theme=dark] .colab-df-convert {\n",
              "      background-color: #3B4455;\n",
              "      fill: #D2E3FC;\n",
              "    }\n",
              "\n",
              "    [theme=dark] .colab-df-convert:hover {\n",
              "      background-color: #434B5C;\n",
              "      box-shadow: 0px 1px 3px 1px rgba(0, 0, 0, 0.15);\n",
              "      filter: drop-shadow(0px 1px 2px rgba(0, 0, 0, 0.3));\n",
              "      fill: #FFFFFF;\n",
              "    }\n",
              "  </style>\n",
              "\n",
              "    <script>\n",
              "      const buttonEl =\n",
              "        document.querySelector('#df-83b235ec-b485-4049-b58a-a3d8d5a2a4e9 button.colab-df-convert');\n",
              "      buttonEl.style.display =\n",
              "        google.colab.kernel.accessAllowed ? 'block' : 'none';\n",
              "\n",
              "      async function convertToInteractive(key) {\n",
              "        const element = document.querySelector('#df-83b235ec-b485-4049-b58a-a3d8d5a2a4e9');\n",
              "        const dataTable =\n",
              "          await google.colab.kernel.invokeFunction('convertToInteractive',\n",
              "                                                    [key], {});\n",
              "        if (!dataTable) return;\n",
              "\n",
              "        const docLinkHtml = 'Like what you see? Visit the ' +\n",
              "          '<a target=\"_blank\" href=https://colab.research.google.com/notebooks/data_table.ipynb>data table notebook</a>'\n",
              "          + ' to learn more about interactive tables.';\n",
              "        element.innerHTML = '';\n",
              "        dataTable['output_type'] = 'display_data';\n",
              "        await google.colab.output.renderOutput(dataTable, element);\n",
              "        const docLink = document.createElement('div');\n",
              "        docLink.innerHTML = docLinkHtml;\n",
              "        element.appendChild(docLink);\n",
              "      }\n",
              "    </script>\n",
              "  </div>\n",
              "\n",
              "\n",
              "    <div id=\"df-2b941578-9cb7-49f5-a058-42ff7e9d16bf\">\n",
              "      <button class=\"colab-df-quickchart\" onclick=\"quickchart('df-2b941578-9cb7-49f5-a058-42ff7e9d16bf')\"\n",
              "                title=\"Suggest charts\"\n",
              "                style=\"display:none;\">\n",
              "\n",
              "<svg xmlns=\"http://www.w3.org/2000/svg\" height=\"24px\"viewBox=\"0 0 24 24\"\n",
              "     width=\"24px\">\n",
              "    <g>\n",
              "        <path d=\"M19 3H5c-1.1 0-2 .9-2 2v14c0 1.1.9 2 2 2h14c1.1 0 2-.9 2-2V5c0-1.1-.9-2-2-2zM9 17H7v-7h2v7zm4 0h-2V7h2v10zm4 0h-2v-4h2v4z\"/>\n",
              "    </g>\n",
              "</svg>\n",
              "      </button>\n",
              "\n",
              "<style>\n",
              "  .colab-df-quickchart {\n",
              "      --bg-color: #E8F0FE;\n",
              "      --fill-color: #1967D2;\n",
              "      --hover-bg-color: #E2EBFA;\n",
              "      --hover-fill-color: #174EA6;\n",
              "      --disabled-fill-color: #AAA;\n",
              "      --disabled-bg-color: #DDD;\n",
              "  }\n",
              "\n",
              "  [theme=dark] .colab-df-quickchart {\n",
              "      --bg-color: #3B4455;\n",
              "      --fill-color: #D2E3FC;\n",
              "      --hover-bg-color: #434B5C;\n",
              "      --hover-fill-color: #FFFFFF;\n",
              "      --disabled-bg-color: #3B4455;\n",
              "      --disabled-fill-color: #666;\n",
              "  }\n",
              "\n",
              "  .colab-df-quickchart {\n",
              "    background-color: var(--bg-color);\n",
              "    border: none;\n",
              "    border-radius: 50%;\n",
              "    cursor: pointer;\n",
              "    display: none;\n",
              "    fill: var(--fill-color);\n",
              "    height: 32px;\n",
              "    padding: 0;\n",
              "    width: 32px;\n",
              "  }\n",
              "\n",
              "  .colab-df-quickchart:hover {\n",
              "    background-color: var(--hover-bg-color);\n",
              "    box-shadow: 0 1px 2px rgba(60, 64, 67, 0.3), 0 1px 3px 1px rgba(60, 64, 67, 0.15);\n",
              "    fill: var(--button-hover-fill-color);\n",
              "  }\n",
              "\n",
              "  .colab-df-quickchart-complete:disabled,\n",
              "  .colab-df-quickchart-complete:disabled:hover {\n",
              "    background-color: var(--disabled-bg-color);\n",
              "    fill: var(--disabled-fill-color);\n",
              "    box-shadow: none;\n",
              "  }\n",
              "\n",
              "  .colab-df-spinner {\n",
              "    border: 2px solid var(--fill-color);\n",
              "    border-color: transparent;\n",
              "    border-bottom-color: var(--fill-color);\n",
              "    animation:\n",
              "      spin 1s steps(1) infinite;\n",
              "  }\n",
              "\n",
              "  @keyframes spin {\n",
              "    0% {\n",
              "      border-color: transparent;\n",
              "      border-bottom-color: var(--fill-color);\n",
              "      border-left-color: var(--fill-color);\n",
              "    }\n",
              "    20% {\n",
              "      border-color: transparent;\n",
              "      border-left-color: var(--fill-color);\n",
              "      border-top-color: var(--fill-color);\n",
              "    }\n",
              "    30% {\n",
              "      border-color: transparent;\n",
              "      border-left-color: var(--fill-color);\n",
              "      border-top-color: var(--fill-color);\n",
              "      border-right-color: var(--fill-color);\n",
              "    }\n",
              "    40% {\n",
              "      border-color: transparent;\n",
              "      border-right-color: var(--fill-color);\n",
              "      border-top-color: var(--fill-color);\n",
              "    }\n",
              "    60% {\n",
              "      border-color: transparent;\n",
              "      border-right-color: var(--fill-color);\n",
              "    }\n",
              "    80% {\n",
              "      border-color: transparent;\n",
              "      border-right-color: var(--fill-color);\n",
              "      border-bottom-color: var(--fill-color);\n",
              "    }\n",
              "    90% {\n",
              "      border-color: transparent;\n",
              "      border-bottom-color: var(--fill-color);\n",
              "    }\n",
              "  }\n",
              "</style>\n",
              "\n",
              "      <script>\n",
              "        async function quickchart(key) {\n",
              "          const quickchartButtonEl =\n",
              "            document.querySelector('#' + key + ' button');\n",
              "          quickchartButtonEl.disabled = true;  // To prevent multiple clicks.\n",
              "          quickchartButtonEl.classList.add('colab-df-spinner');\n",
              "          try {\n",
              "            const charts = await google.colab.kernel.invokeFunction(\n",
              "                'suggestCharts', [key], {});\n",
              "          } catch (error) {\n",
              "            console.error('Error during call to suggestCharts:', error);\n",
              "          }\n",
              "          quickchartButtonEl.classList.remove('colab-df-spinner');\n",
              "          quickchartButtonEl.classList.add('colab-df-quickchart-complete');\n",
              "        }\n",
              "        (() => {\n",
              "          let quickchartButtonEl =\n",
              "            document.querySelector('#df-2b941578-9cb7-49f5-a058-42ff7e9d16bf button');\n",
              "          quickchartButtonEl.style.display =\n",
              "            google.colab.kernel.accessAllowed ? 'block' : 'none';\n",
              "        })();\n",
              "      </script>\n",
              "    </div>\n",
              "\n",
              "    </div>\n",
              "  </div>\n"
            ],
            "application/vnd.google.colaboratory.intrinsic+json": {
              "type": "dataframe",
              "summary": "{\n  \"name\": \"cal_ncf('/content/drive/MyDrive/Amazon_Recommender/models/11_ncf_model\",\n  \"rows\": 5,\n  \"fields\": [\n    {\n      \"column\": \"user_id\",\n      \"properties\": {\n        \"dtype\": \"string\",\n        \"num_unique_values\": 5,\n        \"samples\": [\n          \"A3B2DFMVEIT8TS\",\n          \"A3AQM5GA7LVDXG\",\n          \"A22UL4BXTSXSCB\"\n        ],\n        \"semantic_type\": \"\",\n        \"description\": \"\"\n      }\n    },\n    {\n      \"column\": \"item_id\",\n      \"properties\": {\n        \"dtype\": \"string\",\n        \"num_unique_values\": 4,\n        \"samples\": [\n          \"0789743035\",\n          \"106171327X\",\n          \"0972683275\"\n        ],\n        \"semantic_type\": \"\",\n        \"description\": \"\"\n      }\n    },\n    {\n      \"column\": \"overall\",\n      \"properties\": {\n        \"dtype\": \"number\",\n        \"std\": 1.3038404810405297,\n        \"min\": 2.0,\n        \"max\": 5.0,\n        \"num_unique_values\": 4,\n        \"samples\": [\n          3.0,\n          2.0,\n          5.0\n        ],\n        \"semantic_type\": \"\",\n        \"description\": \"\"\n      }\n    },\n    {\n      \"column\": \"NCF\",\n      \"properties\": {\n        \"dtype\": \"float32\",\n        \"num_unique_values\": 5,\n        \"samples\": [\n          4.599813938140869,\n          4.6656575202941895,\n          4.562770843505859\n        ],\n        \"semantic_type\": \"\",\n        \"description\": \"\"\n      }\n    }\n  ]\n}"
            }
          },
          "metadata": {},
          "execution_count": 39
        }
      ]
    }
  ],
  "metadata": {
    "accelerator": "GPU",
    "colab": {
      "gpuType": "T4",
      "machine_shape": "hm",
      "provenance": [],
      "collapsed_sections": [
        "xATtp-B_OV94",
        "ctKNBcelac_k"
      ],
      "toc_visible": true
    },
    "kernelspec": {
      "display_name": "Python 3",
      "name": "python3"
    },
    "language_info": {
      "name": "python"
    }
  },
  "nbformat": 4,
  "nbformat_minor": 0
}